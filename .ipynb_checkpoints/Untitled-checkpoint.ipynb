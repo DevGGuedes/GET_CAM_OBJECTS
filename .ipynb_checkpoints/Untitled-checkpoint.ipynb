{
 "cells": [
  {
   "cell_type": "code",
   "execution_count": null,
   "id": "989f33d3-06fb-4be2-b1da-a1ee9fb03e06",
   "metadata": {},
   "outputs": [],
   "source": [
    "from pydarknet import Detector, Image"
   ]
  }
 ],
 "metadata": {
  "kernelspec": {
   "display_name": "Python 3",
   "language": "python",
   "name": "python3"
  },
  "language_info": {
   "name": ""
  }
 },
 "nbformat": 4,
 "nbformat_minor": 5
}
